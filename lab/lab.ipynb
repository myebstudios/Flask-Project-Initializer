{
    "cells": [
        {
            "cell_type": "code",
            "execution_count": null,
            "source": [
                "title = 'HelloWorld2'\r\n",
                "description = 'This is a hello world Flask app.'\r\n",
                "\r\n",
                "code = f\"\"\"\r\n",
                "from flask import Flask\r\n",
                "\r\n",
                "app = Flask(__name__)\r\n",
                "\r\n",
                "@app.route('/')\r\n",
                "def hello():\r\n",
                "    return \"<h1>{title}</h1> <p>{description}</p>\"\r\n",
                "\r\n",
                "if __name__ == '__main__':\r\n",
                "    app.run()\r\n",
                "\"\"\"\r\n",
                "\r\n",
                "print(code)"
            ],
            "outputs": [],
            "metadata": {}
        }
    ],
    "metadata": {
        "orig_nbformat": 4,
        "language_info": {
            "name": "python",
            "version": "3.9.5",
            "mimetype": "text/x-python",
            "codemirror_mode": {
                "name": "ipython",
                "version": 3
            },
            "pygments_lexer": "ipython3",
            "nbconvert_exporter": "python",
            "file_extension": ".py"
        },
        "kernelspec": {
            "name": "python3",
            "display_name": "Python 3.9.5 64-bit ('qt6-env': venv)"
        },
        "interpreter": {
            "hash": "51b322c19f6d96ec3245766bd953b23dc81d4e41ba22f90292f43453142fedd8"
        }
    },
    "nbformat": 4,
    "nbformat_minor": 2
}